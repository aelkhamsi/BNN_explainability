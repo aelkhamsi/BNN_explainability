{
 "cells": [
  {
   "cell_type": "code",
   "execution_count": 25,
   "metadata": {},
   "outputs": [],
   "source": [
    "import torch\n",
    "import torch.nn as nn\n",
    "import torch.nn.functional as F\n",
    "import torch.optim as optim\n",
    "import os\n",
    "import cv2\n",
    "import numpy as np\n",
    "from tqdm.notebook import tqdm"
   ]
  },
  {
   "cell_type": "code",
   "execution_count": 26,
   "metadata": {},
   "outputs": [
    {
     "name": "stdout",
     "output_type": "stream",
     "text": [
      "running on CPU\n"
     ]
    }
   ],
   "source": [
    "if torch.cuda.is_available():\n",
    "    device = toch.device(\"cuda:0\")\n",
    "    print(\"running on GPU\")\n",
    "else:\n",
    "    device = torch.device(\"cpu\")\n",
    "    print(\"running on CPU\")"
   ]
  },
  {
   "cell_type": "code",
   "execution_count": 27,
   "metadata": {},
   "outputs": [],
   "source": [
    "REBUILD_DATA = False\n",
    "\n",
    "class CatsVSDogs():\n",
    "    IMG_SIZE=50\n",
    "    training_data = []\n",
    "    CATS = \"PetImages/Cat\"\n",
    "    DOGS = \"PetImages/Dog\"\n",
    "    LABELS = {CATS: 0, DOGS: 1}\n",
    "    catcount=0\n",
    "    dogcount=0\n",
    "    \n",
    "    def make_training_data(self):\n",
    "        for label in self.LABELS:\n",
    "            for f in tqdm(os.listdir(label)):\n",
    "                try:\n",
    "                    path = os.path.join(label, f)\n",
    "                    img = cv2.imread(path, cv2.IMREAD_GRAYSCALE)\n",
    "                    img = cv2.resize(img, (self.IMG_SIZE, self.IMG_SIZE))\n",
    "                    self.training_data.append((np.array(img), np.eye(2)[self.LABELS[label]]))\n",
    "\n",
    "                    if (label==self.CATS):\n",
    "                        self.catcount+=1\n",
    "                    else:\n",
    "                        self.dogcount+=1\n",
    "                except Exception as e:\n",
    "                    pass\n",
    "\n",
    "        np.random.shuffle(self.training_data)\n",
    "        np.save(\"training_data.pyn\", self.training_data)\n",
    "        print(f\"CATS: {self.catcount}\")\n",
    "        print(f\"DOGS: {self.dogcount}\")\n",
    "    \n",
    "if REBUILD_DATA:\n",
    "    catsvsdogs = CatsVSDogs()\n",
    "    catsvsdogs.make_training_data()"
   ]
  },
  {
   "cell_type": "code",
   "execution_count": 28,
   "metadata": {},
   "outputs": [
    {
     "data": {
      "image/png": "[encoded data removed]",
      "text/plain": [
       "<Figure size 432x288 with 1 Axes>"
      ]
     },
     "metadata": {
      "needs_background": "light"
     },
     "output_type": "display_data"
    },
    {
     "name": "stdout",
     "output_type": "stream",
     "text": [
      "[1. 0.]\n"
     ]
    }
   ],
   "source": [
    "import matplotlib.pyplot as plt\n",
    "\n",
    "#load data\n",
    "training_data = np.load(\"training_data.npy\", allow_pickle=True)\n",
    "\n",
    "#show\n",
    "idx=10\n",
    "plt.imshow(training_data[idx][0], cmap=\"gray\")\n",
    "plt.show()\n",
    "print(training_data[idx][1])\n"
   ]
  },
  {
   "cell_type": "code",
   "execution_count": 29,
   "metadata": {},
   "outputs": [
    {
     "data": {
      "text/plain": [
       "Net(\n",
       "  (conv1): Conv2d(1, 32, kernel_size=(5, 5), stride=(1, 1))\n",
       "  (conv2): Conv2d(32, 64, kernel_size=(5, 5), stride=(1, 1))\n",
       "  (conv3): Conv2d(64, 128, kernel_size=(5, 5), stride=(1, 1))\n",
       "  (fc1): Linear(in_features=512, out_features=512, bias=True)\n",
       "  (fc4): Linear(in_features=512, out_features=2, bias=True)\n",
       ")"
      ]
     },
     "execution_count": 29,
     "metadata": {},
     "output_type": "execute_result"
    }
   ],
   "source": [
    "class Net(nn.Module):\n",
    "    def __init__(self):\n",
    "        super().__init__()\n",
    "        self.conv1 = nn.Conv2d(1, 32, 5)\n",
    "        self.conv2 = nn.Conv2d(32, 64, 5)\n",
    "        self.conv3 = nn.Conv2d(64, 128, 5)\n",
    "        \n",
    "        self._to_linear = None\n",
    "        x = torch.rand(50, 50).view(-1, 1, 50, 50)\n",
    "        self.convs(x)\n",
    "        \n",
    "        self.fc1 = nn.Linear(self._to_linear, 512)\n",
    "        #if we add these two layers, the network doesn't learn at all !!\n",
    "        #self.fc2 = nn.Linear(512, 256)\n",
    "        #self.fc3 = nn.Linear(256, 64)\n",
    "        self.fc4 = nn.Linear(512, 2)\n",
    "    \n",
    "    def convs(self, x):\n",
    "        x = F.max_pool2d(F.relu(self.conv1(x)), (2,2))\n",
    "        x = F.max_pool2d(F.relu(self.conv2(x)), (2,2))\n",
    "        x = F.max_pool2d(F.relu(self.conv3(x)), (2,2))\n",
    "        \n",
    "        if self._to_linear == None:\n",
    "            self._to_linear = x[0].shape[0] * x[0].shape[1] * x[0].shape[2]\n",
    "        \n",
    "        return x\n",
    "    \n",
    "    def forward(self, x):\n",
    "        x = self.convs(x)\n",
    "        x = x.view(-1, self._to_linear)\n",
    "        \n",
    "        x = F.relu(self.fc1(x))\n",
    "        #x = F.relu(self.fc2(x))\n",
    "        #x = F.relu(self.fc3(x))\n",
    "        x = self.fc4(x)\n",
    "        \n",
    "        return F.softmax(x, dim=1)\n",
    "\n",
    "net = Net().to(device)\n",
    "net"
   ]
  },
  {
   "cell_type": "code",
   "execution_count": 30,
   "metadata": {},
   "outputs": [
    {
     "name": "stdout",
     "output_type": "stream",
     "text": [
      "Training set size: 22452\n",
      "Test set size: 2494\n"
     ]
    }
   ],
   "source": [
    "#preparing the data\n",
    "\n",
    "X = torch.Tensor([data[0] for data in training_data]).view(-1, 50, 50)\n",
    "X = X/255.0\n",
    "y = torch.Tensor([data[1] for data in training_data])\n",
    "\n",
    "#train_test split\n",
    "VAL_PCT = 0.1  # 10% of our data for validation\n",
    "val_size = int(len(X)*VAL_PCT)\n",
    "\n",
    "X_test = X[0:val_size]\n",
    "y_test = y[0:val_size]\n",
    "X_train = X[val_size:]\n",
    "y_train = y[val_size:]\n",
    "\n",
    "print(f\"Training set size: {len(X_train)}\")\n",
    "print(f\"Test set size: {len(X_test)}\")"
   ]
  },
  {
   "cell_type": "code",
   "execution_count": 31,
   "metadata": {},
   "outputs": [
    {
     "data": {
      "application/vnd.jupyter.widget-view+json": {
       "model_id": "5cbb27005b0f4f119fe99b5ac2e3654a",
       "version_major": 2,
       "version_minor": 0
      },
      "text/plain": [
       "HBox(children=(FloatProgress(value=0.0, max=225.0), HTML(value='')))"
      ]
     },
     "metadata": {},
     "output_type": "display_data"
    },
    {
     "name": "stdout",
     "output_type": "stream",
     "text": [
      "\n",
      "tensor(0.2430, grad_fn=<MseLossBackward>)\n"
     ]
    }
   ],
   "source": [
    "#train\n",
    "\n",
    "BATCH_SIZE=100\n",
    "EPOCHS=1\n",
    "def train():\n",
    "    optimizer = optim.Adam(net.parameters(), lr=0.001)\n",
    "    loss_function = nn.MSELoss()\n",
    "    for epoch in range(EPOCHS):\n",
    "\n",
    "        for i in tqdm(range(0, len(X_train), BATCH_SIZE)):\n",
    "            X_batch = X_train[i:i+BATCH_SIZE].view(-1, 1, 50, 50).to(device)\n",
    "            y_batch = y_train[i:i+BATCH_SIZE].to(device)\n",
    "\n",
    "            net.zero_grad()\n",
    "            predictions = net(X_batch)\n",
    "            loss = loss_function(predictions, y_batch)\n",
    "            loss.backward()\n",
    "            optimizer.step()\n",
    "        print(loss)\n",
    "\n",
    "train()\n"
   ]
  },
  {
   "cell_type": "code",
   "execution_count": 34,
   "metadata": {},
   "outputs": [
    {
     "data": {
      "application/vnd.jupyter.widget-view+json": {
       "model_id": "a3ec5afba86a4aeaa08b8e6c8ba376cb",
       "version_major": 2,
       "version_minor": 0
      },
      "text/plain": [
       "HBox(children=(FloatProgress(value=0.0, max=25.0), HTML(value='')))"
      ]
     },
     "metadata": {},
     "output_type": "display_data"
    },
    {
     "name": "stdout",
     "output_type": "stream",
     "text": [
      "\n",
      "Accuracy: 64.876%\n"
     ]
    }
   ],
   "source": [
    "#test 1\n",
    "def test():\n",
    "    correct=0\n",
    "    total=0\n",
    "    with torch.no_grad():\n",
    "        for i in tqdm(range(0, len(X_test), BATCH_SIZE)):\n",
    "            X_batch = X_test[i:i+BATCH_SIZE].view(-1, 1, 50, 50)\n",
    "            y_batch = y_test[i:i+BATCH_SIZE]\n",
    "            predictions = net(X_batch.view(-1, 1, 50, 50))\n",
    "            for idx, prediction in enumerate(predictions):\n",
    "                if (torch.argmax(prediction) == torch.argmax(y_batch[idx])):\n",
    "                    correct+=1\n",
    "                total+=1\n",
    "\n",
    "    print(f\"Accuracy: {np.round(correct/total*100, decimals=3)}%\")\n",
    "\n",
    "test()\n",
    "            "
   ]
  },
  {
   "cell_type": "code",
   "execution_count": 35,
   "metadata": {},
   "outputs": [
    {
     "data": {
      "application/vnd.jupyter.widget-view+json": {
       "model_id": "c827753c32f44568bc65c954c0d4a5ed",
       "version_major": 2,
       "version_minor": 0
      },
      "text/plain": [
       "HBox(children=(FloatProgress(value=0.0, max=2494.0), HTML(value='')))"
      ]
     },
     "metadata": {},
     "output_type": "display_data"
    },
    {
     "name": "stdout",
     "output_type": "stream",
     "text": [
      "\n",
      "Accuracy: 64.876%\n"
     ]
    }
   ],
   "source": [
    "#test 2 (if basically the same thing, without using batches)\n",
    "\n",
    "def test2():\n",
    "    correct=0\n",
    "    total=0\n",
    "\n",
    "    with torch.no_grad():\n",
    "        for i in tqdm(range(len(X_test))):\n",
    "            X = X_test[i].view(-1, 1, 50, 50)\n",
    "            output = net(X)\n",
    "            predicted_class = torch.argmax(output)\n",
    "            real_class = torch.argmax(y_test[i])\n",
    "            #print(f\"Real class: {real_class} | Predicted class: {predicted_class}\")\n",
    "            if (predicted_class == real_class):\n",
    "                correct+=1\n",
    "            total+=1\n",
    "\n",
    "    print(f\"Accuracy: {np.round(correct/total*100, decimals=3)}%\")\n",
    "\n",
    "test2()"
   ]
  },
  {
   "cell_type": "code",
   "execution_count": null,
   "metadata": {},
   "outputs": [],
   "source": []
  }
 ],
 "metadata": {
  "kernelspec": {
   "display_name": "Python 3",
   "language": "python",
   "name": "python3"
  },
  "language_info": {
   "codemirror_mode": {
    "name": "ipython",
    "version": 3
   },
   "file_extension": ".py",
   "mimetype": "text/x-python",
   "name": "python",
   "nbconvert_exporter": "python",
   "pygments_lexer": "ipython3",
   "version": "3.7.6"
  }
 },
 "nbformat": 4,
 "nbformat_minor": 4
}
